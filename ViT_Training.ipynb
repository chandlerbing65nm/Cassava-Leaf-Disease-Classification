{
  "nbformat": 4,
  "nbformat_minor": 0,
  "metadata": {
    "colab": {
      "name": "Copy of ViT-Training.ipynb",
      "provenance": [],
      "collapsed_sections": [
        "ZTi5gkvLTPy_",
        "2T-WxqFmUjKG",
        "MXzs-_IhTU0g",
        "YoNwBENCZFJz",
        "mzZLdR1XZKDN",
        "W05QsNpdZUxE",
        "niiwVIssZjXy",
        "01dU14-hZs4B",
        "ALbURc0wZ-0v",
        "1Q1rZSxzk3MV",
        "SNvhIx-MKXQf"
      ],
      "machine_shape": "hm"
    },
    "kernelspec": {
      "name": "python3",
      "display_name": "Python 3"
    },
    "language_info": {
      "name": "python"
    },
    "accelerator": "GPU"
  },
  "cells": [
    {
      "cell_type": "markdown",
      "metadata": {
        "id": "Z-hj5a4OqdgP"
      },
      "source": [
        "[![Open In Colab](https://colab.research.google.com/assets/colab-badge.svg)](https://colab.research.google.com/github/googlecolab/colabtools/blob/master/notebooks/colab-github-demo.ipynb)"
      ]
    },
    {
      "cell_type": "markdown",
      "metadata": {
        "id": "ZTi5gkvLTPy_"
      },
      "source": [
        "# Check Resources"
      ]
    },
    {
      "cell_type": "code",
      "metadata": {
        "colab": {
          "base_uri": "https://localhost:8080/"
        },
        "id": "mqE4aRpYTLqa",
        "outputId": "8b7ffd7d-e9fe-4ed7-be53-3b6e98f70c42"
      },
      "source": [
        "gpu_info = !nvidia-smi\n",
        "gpu_info = '\\n'.join(gpu_info)\n",
        "if gpu_info.find('failed') >= 0:\n",
        "  print('Select the Runtime > \"Change runtime type\" menu to enable a GPU accelerator, ')\n",
        "  print('and then re-execute this cell.')\n",
        "else:\n",
        "  print(gpu_info)"
      ],
      "execution_count": null,
      "outputs": [
        {
          "output_type": "stream",
          "name": "stdout",
          "text": [
            "Sun Sep 26 08:13:36 2021       \n",
            "+-----------------------------------------------------------------------------+\n",
            "| NVIDIA-SMI 470.63.01    Driver Version: 460.32.03    CUDA Version: 11.2     |\n",
            "|-------------------------------+----------------------+----------------------+\n",
            "| GPU  Name        Persistence-M| Bus-Id        Disp.A | Volatile Uncorr. ECC |\n",
            "| Fan  Temp  Perf  Pwr:Usage/Cap|         Memory-Usage | GPU-Util  Compute M. |\n",
            "|                               |                      |               MIG M. |\n",
            "|===============================+======================+======================|\n",
            "|   0  A100-SXM4-40GB      Off  | 00000000:00:04.0 Off |                    0 |\n",
            "| N/A   38C    P0    43W / 400W |      0MiB / 40536MiB |      0%      Default |\n",
            "|                               |                      |             Disabled |\n",
            "+-------------------------------+----------------------+----------------------+\n",
            "                                                                               \n",
            "+-----------------------------------------------------------------------------+\n",
            "| Processes:                                                                  |\n",
            "|  GPU   GI   CI        PID   Type   Process name                  GPU Memory |\n",
            "|        ID   ID                                                   Usage      |\n",
            "|=============================================================================|\n",
            "|  No running processes found                                                 |\n",
            "+-----------------------------------------------------------------------------+\n"
          ]
        }
      ]
    },
    {
      "cell_type": "code",
      "metadata": {
        "colab": {
          "base_uri": "https://localhost:8080/"
        },
        "id": "aEyodftlTTLW",
        "outputId": "2b139ec7-40c3-4e99-d4b5-a023d5b829f4"
      },
      "source": [
        "from psutil import virtual_memory\n",
        "ram_gb = virtual_memory().total / 1e9\n",
        "print('Your runtime has {:.1f} gigabytes of available RAM\\n'.format(ram_gb))\n",
        "\n",
        "if ram_gb < 20:\n",
        "  print('To enable a high-RAM runtime, select the Runtime > \"Change runtime type\"')\n",
        "  print('menu, and then select High-RAM in the Runtime shape dropdown. Then, ')\n",
        "  print('re-execute this cell.')\n",
        "else:\n",
        "  print('You are using a high-RAM runtime!')"
      ],
      "execution_count": null,
      "outputs": [
        {
          "output_type": "stream",
          "name": "stdout",
          "text": [
            "Your runtime has 89.6 gigabytes of available RAM\n",
            "\n",
            "You are using a high-RAM runtime!\n"
          ]
        }
      ]
    },
    {
      "cell_type": "markdown",
      "metadata": {
        "id": "2T-WxqFmUjKG"
      },
      "source": [
        "# Mount GDrive"
      ]
    },
    {
      "cell_type": "code",
      "metadata": {
        "colab": {
          "base_uri": "https://localhost:8080/"
        },
        "id": "5yWlcISLUkHe",
        "outputId": "e7d478bf-47a1-4ffa-f740-26f770563277"
      },
      "source": [
        "from google.colab import drive\n",
        "drive.mount(\"/content/drive\", force_remount=True)"
      ],
      "execution_count": null,
      "outputs": [
        {
          "output_type": "stream",
          "name": "stdout",
          "text": [
            "Mounted at /content/drive\n"
          ]
        }
      ]
    },
    {
      "cell_type": "code",
      "metadata": {
        "colab": {
          "base_uri": "https://localhost:8080/"
        },
        "id": "Cx0UNpPpUlX1",
        "outputId": "8f04bde4-6710-43d7-f5ca-c4e4a84bfb07"
      },
      "source": [
        "!cp -r /content/drive/MyDrive/Kaggle-Projects/Cassava-Leaf-Disease /content\n",
        "%cd Cassava-Leaf-Disease"
      ],
      "execution_count": null,
      "outputs": [
        {
          "output_type": "stream",
          "name": "stdout",
          "text": [
            "/content/Cassava-Leaf-Disease\n"
          ]
        }
      ]
    },
    {
      "cell_type": "markdown",
      "metadata": {
        "id": "MXzs-_IhTU0g"
      },
      "source": [
        "# Preliminaries"
      ]
    },
    {
      "cell_type": "code",
      "metadata": {
        "colab": {
          "base_uri": "https://localhost:8080/"
        },
        "id": "RxEY3yTGTa4h",
        "outputId": "7b061f75-a224-4c8a-a467-8e14c0b3bbe3"
      },
      "source": [
        "!pip install rdkit-pypi\n",
        "!pip install ipykernel\n",
        "!pip install pydicom\n",
        "!pip install catalyst"
      ],
      "execution_count": null,
      "outputs": [
        {
          "output_type": "stream",
          "name": "stdout",
          "text": [
            "Collecting rdkit-pypi\n",
            "  Downloading rdkit_pypi-2021.3.5.1-cp37-cp37m-manylinux_2_17_x86_64.manylinux2014_x86_64.whl (19.7 MB)\n",
            "\u001b[K     |████████████████████████████████| 19.7 MB 184 kB/s \n",
            "\u001b[?25hRequirement already satisfied: numpy>=1.19 in /usr/local/lib/python3.7/dist-packages (from rdkit-pypi) (1.19.5)\n",
            "Installing collected packages: rdkit-pypi\n",
            "Successfully installed rdkit-pypi-2021.3.5.1\n",
            "Requirement already satisfied: ipykernel in /usr/local/lib/python3.7/dist-packages (4.10.1)\n",
            "Requirement already satisfied: tornado>=4.0 in /usr/local/lib/python3.7/dist-packages (from ipykernel) (5.1.1)\n",
            "Requirement already satisfied: traitlets>=4.1.0 in /usr/local/lib/python3.7/dist-packages (from ipykernel) (5.1.0)\n",
            "Requirement already satisfied: jupyter-client in /usr/local/lib/python3.7/dist-packages (from ipykernel) (5.3.5)\n",
            "Requirement already satisfied: ipython>=4.0.0 in /usr/local/lib/python3.7/dist-packages (from ipykernel) (5.5.0)\n",
            "Requirement already satisfied: decorator in /usr/local/lib/python3.7/dist-packages (from ipython>=4.0.0->ipykernel) (4.4.2)\n",
            "Requirement already satisfied: pexpect in /usr/local/lib/python3.7/dist-packages (from ipython>=4.0.0->ipykernel) (4.8.0)\n",
            "Requirement already satisfied: setuptools>=18.5 in /usr/local/lib/python3.7/dist-packages (from ipython>=4.0.0->ipykernel) (57.4.0)\n",
            "Requirement already satisfied: pickleshare in /usr/local/lib/python3.7/dist-packages (from ipython>=4.0.0->ipykernel) (0.7.5)\n",
            "Requirement already satisfied: prompt-toolkit<2.0.0,>=1.0.4 in /usr/local/lib/python3.7/dist-packages (from ipython>=4.0.0->ipykernel) (1.0.18)\n",
            "Requirement already satisfied: simplegeneric>0.8 in /usr/local/lib/python3.7/dist-packages (from ipython>=4.0.0->ipykernel) (0.8.1)\n",
            "Requirement already satisfied: pygments in /usr/local/lib/python3.7/dist-packages (from ipython>=4.0.0->ipykernel) (2.6.1)\n",
            "Requirement already satisfied: six>=1.9.0 in /usr/local/lib/python3.7/dist-packages (from prompt-toolkit<2.0.0,>=1.0.4->ipython>=4.0.0->ipykernel) (1.15.0)\n",
            "Requirement already satisfied: wcwidth in /usr/local/lib/python3.7/dist-packages (from prompt-toolkit<2.0.0,>=1.0.4->ipython>=4.0.0->ipykernel) (0.2.5)\n",
            "Requirement already satisfied: pyzmq>=13 in /usr/local/lib/python3.7/dist-packages (from jupyter-client->ipykernel) (22.3.0)\n",
            "Requirement already satisfied: jupyter-core>=4.6.0 in /usr/local/lib/python3.7/dist-packages (from jupyter-client->ipykernel) (4.7.1)\n",
            "Requirement already satisfied: python-dateutil>=2.1 in /usr/local/lib/python3.7/dist-packages (from jupyter-client->ipykernel) (2.8.2)\n",
            "Requirement already satisfied: ptyprocess>=0.5 in /usr/local/lib/python3.7/dist-packages (from pexpect->ipython>=4.0.0->ipykernel) (0.7.0)\n",
            "Collecting pydicom\n",
            "  Downloading pydicom-2.2.1-py3-none-any.whl (2.0 MB)\n",
            "\u001b[K     |████████████████████████████████| 2.0 MB 5.2 MB/s \n",
            "\u001b[?25hInstalling collected packages: pydicom\n",
            "Successfully installed pydicom-2.2.1\n",
            "Collecting catalyst\n",
            "  Downloading catalyst-21.8-py2.py3-none-any.whl (556 kB)\n",
            "\u001b[K     |████████████████████████████████| 556 kB 5.1 MB/s \n",
            "\u001b[?25hCollecting PyYAML>=5.1\n",
            "  Downloading PyYAML-5.4.1-cp37-cp37m-manylinux1_x86_64.whl (636 kB)\n",
            "\u001b[K     |████████████████████████████████| 636 kB 45.6 MB/s \n",
            "\u001b[?25hCollecting hydra-slayer>=0.1.1\n",
            "  Downloading hydra_slayer-0.2.0-py3-none-any.whl (12 kB)\n",
            "Requirement already satisfied: torch>=1.3.0 in /usr/local/lib/python3.7/dist-packages (from catalyst) (1.9.0+cu102)\n",
            "Requirement already satisfied: numpy>=1.18 in /usr/local/lib/python3.7/dist-packages (from catalyst) (1.19.5)\n",
            "Requirement already satisfied: tqdm>=4.33.0 in /usr/local/lib/python3.7/dist-packages (from catalyst) (4.62.2)\n",
            "Collecting tensorboardX<2.3.0>=2.1.0\n",
            "  Downloading tensorboardX-2.2-py2.py3-none-any.whl (120 kB)\n",
            "\u001b[K     |████████████████████████████████| 120 kB 69.5 MB/s \n",
            "\u001b[?25hRequirement already satisfied: protobuf>=3.8.0 in /usr/local/lib/python3.7/dist-packages (from tensorboardX<2.3.0>=2.1.0->catalyst) (3.17.3)\n",
            "Requirement already satisfied: six>=1.9 in /usr/local/lib/python3.7/dist-packages (from protobuf>=3.8.0->tensorboardX<2.3.0>=2.1.0->catalyst) (1.15.0)\n",
            "Requirement already satisfied: typing-extensions in /usr/local/lib/python3.7/dist-packages (from torch>=1.3.0->catalyst) (3.7.4.3)\n",
            "Installing collected packages: tensorboardX, PyYAML, hydra-slayer, catalyst\n",
            "  Attempting uninstall: PyYAML\n",
            "    Found existing installation: PyYAML 3.13\n",
            "    Uninstalling PyYAML-3.13:\n",
            "      Successfully uninstalled PyYAML-3.13\n",
            "Successfully installed PyYAML-5.4.1 catalyst-21.8 hydra-slayer-0.2.0 tensorboardX-2.2\n"
          ]
        }
      ]
    },
    {
      "cell_type": "code",
      "metadata": {
        "colab": {
          "base_uri": "https://localhost:8080/"
        },
        "id": "KA4gHFffafKW",
        "outputId": "df87937b-5159-44ed-a0ba-50beb25652a7"
      },
      "source": [
        "!wget -q https://github.com/albumentations-team/albumentations_examples/archive/master.zip -O /tmp/albumentations_examples.zip\n",
        "!unzip -o -qq /tmp/albumentations_examples.zip -d /tmp/albumentations_examples\n",
        "!cp -r /tmp/albumentations_examples/albumentations_examples-master/notebooks/images .\n",
        "!echo \"Images are successfully downloaded\""
      ],
      "execution_count": null,
      "outputs": [
        {
          "output_type": "stream",
          "name": "stdout",
          "text": [
            "Images are successfully downloaded\n"
          ]
        }
      ]
    },
    {
      "cell_type": "code",
      "metadata": {
        "colab": {
          "base_uri": "https://localhost:8080/"
        },
        "id": "B1AJm49pcYWP",
        "outputId": "18eeac00-94ab-4071-edc3-59e3c5f2a584"
      },
      "source": [
        "!pip install -q -U albumentations\n",
        "!echo \"$(pip freeze | grep albumentations) is successfully installed\""
      ],
      "execution_count": null,
      "outputs": [
        {
          "output_type": "stream",
          "name": "stdout",
          "text": [
            "\u001b[K     |████████████████████████████████| 98 kB 3.6 MB/s \n",
            "\u001b[K     |████████████████████████████████| 37.1 MB 98 kB/s \n",
            "\u001b[?25halbumentations==1.0.3 is successfully installed\n"
          ]
        }
      ]
    },
    {
      "cell_type": "code",
      "metadata": {
        "colab": {
          "base_uri": "https://localhost:8080/"
        },
        "id": "oiAmaFxPRGQX",
        "outputId": "1480dafa-db26-45de-d778-5114211025f0"
      },
      "source": [
        "!pip install torch==1.8.0+cu111 torchvision==0.9.0+cu111 torchaudio==0.8.0 -f https://download.pytorch.org/whl/torch_stable.html"
      ],
      "execution_count": null,
      "outputs": [
        {
          "output_type": "stream",
          "name": "stdout",
          "text": [
            "Looking in links: https://download.pytorch.org/whl/torch_stable.html\n",
            "Collecting torch==1.8.0+cu111\n",
            "  Downloading https://download.pytorch.org/whl/cu111/torch-1.8.0%2Bcu111-cp37-cp37m-linux_x86_64.whl (1982.2 MB)\n",
            "\u001b[K     |█████████████▌                  | 834.1 MB 1.2 MB/s eta 0:15:43tcmalloc: large alloc 1147494400 bytes == 0x563ae018e000 @  0x7f80dce41615 0x563adcf4c4cc 0x563add02c47a 0x563adcf4f2ed 0x563add040e1d 0x563adcfc2e99 0x563adcfbd9ee 0x563adcf50bda 0x563adcfc2d00 0x563adcfbd9ee 0x563adcf50bda 0x563adcfbf737 0x563add041c66 0x563adcfbedaf 0x563add041c66 0x563adcfbedaf 0x563add041c66 0x563adcfbedaf 0x563adcf51039 0x563adcf94409 0x563adcf4fc52 0x563adcfc2c25 0x563adcfbd9ee 0x563adcf50bda 0x563adcfbf737 0x563adcfbd9ee 0x563adcf50bda 0x563adcfbe915 0x563adcf50afa 0x563adcfbec0d 0x563adcfbd9ee\n",
            "\u001b[K     |█████████████████               | 1055.7 MB 1.2 MB/s eta 0:13:12tcmalloc: large alloc 1434370048 bytes == 0x563b247e4000 @  0x7f80dce41615 0x563adcf4c4cc 0x563add02c47a 0x563adcf4f2ed 0x563add040e1d 0x563adcfc2e99 0x563adcfbd9ee 0x563adcf50bda 0x563adcfc2d00 0x563adcfbd9ee 0x563adcf50bda 0x563adcfbf737 0x563add041c66 0x563adcfbedaf 0x563add041c66 0x563adcfbedaf 0x563add041c66 0x563adcfbedaf 0x563adcf51039 0x563adcf94409 0x563adcf4fc52 0x563adcfc2c25 0x563adcfbd9ee 0x563adcf50bda 0x563adcfbf737 0x563adcfbd9ee 0x563adcf50bda 0x563adcfbe915 0x563adcf50afa 0x563adcfbec0d 0x563adcfbd9ee\n",
            "\u001b[K     |█████████████████████▋          | 1336.2 MB 1.2 MB/s eta 0:09:07tcmalloc: large alloc 1792966656 bytes == 0x563b79fd0000 @  0x7f80dce41615 0x563adcf4c4cc 0x563add02c47a 0x563adcf4f2ed 0x563add040e1d 0x563adcfc2e99 0x563adcfbd9ee 0x563adcf50bda 0x563adcfc2d00 0x563adcfbd9ee 0x563adcf50bda 0x563adcfbf737 0x563add041c66 0x563adcfbedaf 0x563add041c66 0x563adcfbedaf 0x563add041c66 0x563adcfbedaf 0x563adcf51039 0x563adcf94409 0x563adcf4fc52 0x563adcfc2c25 0x563adcfbd9ee 0x563adcf50bda 0x563adcfbf737 0x563adcfbd9ee 0x563adcf50bda 0x563adcfbe915 0x563adcf50afa 0x563adcfbec0d 0x563adcfbd9ee\n",
            "\u001b[K     |███████████████████████████▎    | 1691.1 MB 1.2 MB/s eta 0:04:05tcmalloc: large alloc 2241208320 bytes == 0x563ae018e000 @  0x7f80dce41615 0x563adcf4c4cc 0x563add02c47a 0x563adcf4f2ed 0x563add040e1d 0x563adcfc2e99 0x563adcfbd9ee 0x563adcf50bda 0x563adcfc2d00 0x563adcfbd9ee 0x563adcf50bda 0x563adcfbf737 0x563add041c66 0x563adcfbedaf 0x563add041c66 0x563adcfbedaf 0x563add041c66 0x563adcfbedaf 0x563adcf51039 0x563adcf94409 0x563adcf4fc52 0x563adcfc2c25 0x563adcfbd9ee 0x563adcf50bda 0x563adcfbf737 0x563adcfbd9ee 0x563adcf50bda 0x563adcfbe915 0x563adcf50afa 0x563adcfbec0d 0x563adcfbd9ee\n",
            "\u001b[K     |████████████████████████████████| 1982.2 MB 1.1 MB/s eta 0:00:01tcmalloc: large alloc 1982251008 bytes == 0x563b65af0000 @  0x7f80dce401e7 0x563adcf82067 0x563adcf4c4cc 0x563add02c47a 0x563adcf4f2ed 0x563add040e1d 0x563adcfc2e99 0x563adcfbd9ee 0x563adcf50bda 0x563adcfbec0d 0x563adcfbd9ee 0x563adcf50bda 0x563adcfbec0d 0x563adcfbd9ee 0x563adcf50bda 0x563adcfbec0d 0x563adcfbd9ee 0x563adcf50bda 0x563adcfbec0d 0x563adcfbd9ee 0x563adcf50bda 0x563adcfbec0d 0x563adcf50afa 0x563adcfbec0d 0x563adcfbd9ee 0x563adcf50bda 0x563adcfbf737 0x563adcfbd9ee 0x563adcf50bda 0x563adcfbf737 0x563adcfbd9ee\n",
            "tcmalloc: large alloc 2477817856 bytes == 0x563bdbd5c000 @  0x7f80dce41615 0x563adcf4c4cc 0x563add02c47a 0x563adcf4f2ed 0x563add040e1d 0x563adcfc2e99 0x563adcfbd9ee 0x563adcf50bda 0x563adcfbec0d 0x563adcfbd9ee 0x563adcf50bda 0x563adcfbec0d 0x563adcfbd9ee 0x563adcf50bda 0x563adcfbec0d 0x563adcfbd9ee 0x563adcf50bda 0x563adcfbec0d 0x563adcfbd9ee 0x563adcf50bda 0x563adcfbec0d 0x563adcf50afa 0x563adcfbec0d 0x563adcfbd9ee 0x563adcf50bda 0x563adcfbf737 0x563adcfbd9ee 0x563adcf50bda 0x563adcfbf737 0x563adcfbd9ee 0x563adcf51271\n",
            "\u001b[K     |████████████████████████████████| 1982.2 MB 2.9 kB/s \n",
            "\u001b[?25hCollecting torchvision==0.9.0+cu111\n",
            "  Downloading https://download.pytorch.org/whl/cu111/torchvision-0.9.0%2Bcu111-cp37-cp37m-linux_x86_64.whl (17.6 MB)\n",
            "\u001b[K     |████████████████████████████████| 17.6 MB 12 kB/s \n",
            "\u001b[?25hCollecting torchaudio==0.8.0\n",
            "  Downloading torchaudio-0.8.0-cp37-cp37m-manylinux1_x86_64.whl (1.9 MB)\n",
            "\u001b[K     |████████████████████████████████| 1.9 MB 5.2 MB/s \n",
            "\u001b[?25hRequirement already satisfied: numpy in /usr/local/lib/python3.7/dist-packages (from torch==1.8.0+cu111) (1.19.5)\n",
            "Requirement already satisfied: typing-extensions in /usr/local/lib/python3.7/dist-packages (from torch==1.8.0+cu111) (3.7.4.3)\n",
            "Requirement already satisfied: pillow>=4.1.1 in /usr/local/lib/python3.7/dist-packages (from torchvision==0.9.0+cu111) (7.1.2)\n",
            "Installing collected packages: torch, torchvision, torchaudio\n",
            "  Attempting uninstall: torch\n",
            "    Found existing installation: torch 1.9.0+cu102\n",
            "    Uninstalling torch-1.9.0+cu102:\n",
            "      Successfully uninstalled torch-1.9.0+cu102\n",
            "  Attempting uninstall: torchvision\n",
            "    Found existing installation: torchvision 0.10.0+cu102\n",
            "    Uninstalling torchvision-0.10.0+cu102:\n",
            "      Successfully uninstalled torchvision-0.10.0+cu102\n",
            "\u001b[31mERROR: pip's dependency resolver does not currently take into account all the packages that are installed. This behaviour is the source of the following dependency conflicts.\n",
            "torchtext 0.10.0 requires torch==1.9.0, but you have torch 1.8.0+cu111 which is incompatible.\u001b[0m\n",
            "Successfully installed torch-1.8.0+cu111 torchaudio-0.8.0 torchvision-0.9.0+cu111\n"
          ]
        }
      ]
    },
    {
      "cell_type": "markdown",
      "metadata": {
        "id": "6E_qVsbKVU9Q"
      },
      "source": [
        "#Training and Data Augmentation"
      ]
    },
    {
      "cell_type": "markdown",
      "metadata": {
        "id": "YoNwBENCZFJz"
      },
      "source": [
        "## Pre-setting"
      ]
    },
    {
      "cell_type": "code",
      "metadata": {
        "id": "Z6DkPhsLVYOP"
      },
      "source": [
        "package_paths = [\n",
        "    'input/pytorch-image-models/pytorch-image-models-master', 'input/image-fmix/FMix-master'\n",
        "]\n",
        "import sys; \n",
        "\n",
        "for pth in package_paths:\n",
        "    sys.path.append(pth)\n",
        "from fmix import sample_mask, make_low_freq_image, binarise_mask"
      ],
      "execution_count": null,
      "outputs": []
    },
    {
      "cell_type": "code",
      "metadata": {
        "id": "t3OuZ_8PVgF_"
      },
      "source": [
        "from glob import glob\n",
        "from sklearn.model_selection import GroupKFold, StratifiedKFold\n",
        "import cv2\n",
        "from skimage import io\n",
        "import torch\n",
        "from torch import nn\n",
        "import os\n",
        "from datetime import datetime\n",
        "import time\n",
        "import random\n",
        "import cv2\n",
        "import torchvision\n",
        "from torchvision import transforms\n",
        "import pandas as pd\n",
        "import numpy as np\n",
        "from tqdm import tqdm\n",
        "\n",
        "import matplotlib.pyplot as plt\n",
        "from torch.utils.data import Dataset,DataLoader\n",
        "from torch.utils.data.sampler import SequentialSampler, RandomSampler\n",
        "from torch.cuda.amp import autocast, GradScaler\n",
        "from torch.nn.modules.loss import _WeightedLoss\n",
        "import torch.nn.functional as F\n",
        "\n",
        "import timm\n",
        "\n",
        "import catalyst\n",
        "import sklearn\n",
        "import warnings\n",
        "import joblib\n",
        "from sklearn.metrics import roc_auc_score, log_loss\n",
        "from sklearn import metrics\n",
        "import warnings\n",
        "import cv2\n",
        "import pydicom\n",
        "#from efficientnet_pytorch import EfficientNet\n",
        "from scipy.ndimage.interpolation import zoom\n",
        "\n",
        "from albumentations import (\n",
        "    HorizontalFlip, VerticalFlip, IAAPerspective, ShiftScaleRotate, CLAHE, RandomRotate90,\n",
        "    Transpose, ShiftScaleRotate, Blur, OpticalDistortion, GridDistortion, HueSaturationValue,\n",
        "    IAAAdditiveGaussianNoise, GaussNoise, MotionBlur, MedianBlur, IAAPiecewiseAffine, RandomResizedCrop,\n",
        "    IAASharpen, IAAEmboss, RandomBrightnessContrast, Flip, OneOf, Compose, Normalize, Cutout, CoarseDropout, ShiftScaleRotate, CenterCrop, Resize\n",
        ")\n",
        "from albumentations.pytorch import ToTensorV2"
      ],
      "execution_count": null,
      "outputs": []
    },
    {
      "cell_type": "code",
      "metadata": {
        "id": "ZaWVYqpjVngY"
      },
      "source": [
        "CFG = {\n",
        "    'fold_num': 5,\n",
        "    'seed': 719,\n",
        "    'model_arch': 'vit_base_patch16_224',\n",
        "    'img_size': 224,\n",
        "    'epochs': 10,\n",
        "    'train_bs': 16,\n",
        "    'valid_bs': 32,\n",
        "    'T_0': 10,\n",
        "    'lr': 1e-4,\n",
        "    'min_lr': 1e-6,\n",
        "    'weight_decay':1e-6,\n",
        "    'num_workers': 4,\n",
        "    'accum_iter': 2, # suppoprt to do batch accumulation for backprop with effectively larger batch size\n",
        "    'verbose_step': 1,\n",
        "    'device': 'cuda:0'\n",
        "}"
      ],
      "execution_count": null,
      "outputs": []
    },
    {
      "cell_type": "code",
      "metadata": {
        "colab": {
          "base_uri": "https://localhost:8080/",
          "height": 205
        },
        "id": "6vHnjndyY3Rj",
        "outputId": "17a3b68d-0e9a-4add-e7bc-dfde3674cef5"
      },
      "source": [
        "train = pd.read_csv('input/cassava-leaf-disease-classification/train.csv')\n",
        "train.head()"
      ],
      "execution_count": null,
      "outputs": [
        {
          "output_type": "execute_result",
          "data": {
            "text/html": [
              "<div>\n",
              "<style scoped>\n",
              "    .dataframe tbody tr th:only-of-type {\n",
              "        vertical-align: middle;\n",
              "    }\n",
              "\n",
              "    .dataframe tbody tr th {\n",
              "        vertical-align: top;\n",
              "    }\n",
              "\n",
              "    .dataframe thead th {\n",
              "        text-align: right;\n",
              "    }\n",
              "</style>\n",
              "<table border=\"1\" class=\"dataframe\">\n",
              "  <thead>\n",
              "    <tr style=\"text-align: right;\">\n",
              "      <th></th>\n",
              "      <th>image_id</th>\n",
              "      <th>label</th>\n",
              "    </tr>\n",
              "  </thead>\n",
              "  <tbody>\n",
              "    <tr>\n",
              "      <th>0</th>\n",
              "      <td>1000015157.jpg</td>\n",
              "      <td>0</td>\n",
              "    </tr>\n",
              "    <tr>\n",
              "      <th>1</th>\n",
              "      <td>1000201771.jpg</td>\n",
              "      <td>3</td>\n",
              "    </tr>\n",
              "    <tr>\n",
              "      <th>2</th>\n",
              "      <td>100042118.jpg</td>\n",
              "      <td>1</td>\n",
              "    </tr>\n",
              "    <tr>\n",
              "      <th>3</th>\n",
              "      <td>1000723321.jpg</td>\n",
              "      <td>1</td>\n",
              "    </tr>\n",
              "    <tr>\n",
              "      <th>4</th>\n",
              "      <td>1000812911.jpg</td>\n",
              "      <td>3</td>\n",
              "    </tr>\n",
              "  </tbody>\n",
              "</table>\n",
              "</div>"
            ],
            "text/plain": [
              "         image_id  label\n",
              "0  1000015157.jpg      0\n",
              "1  1000201771.jpg      3\n",
              "2   100042118.jpg      1\n",
              "3  1000723321.jpg      1\n",
              "4  1000812911.jpg      3"
            ]
          },
          "metadata": {},
          "execution_count": 12
        }
      ]
    },
    {
      "cell_type": "code",
      "metadata": {
        "colab": {
          "base_uri": "https://localhost:8080/"
        },
        "id": "ypQcAbf1Y7fM",
        "outputId": "e7a9cf52-5bca-44d6-d4f2-596bc16297f7"
      },
      "source": [
        "train.label.value_counts()"
      ],
      "execution_count": null,
      "outputs": [
        {
          "output_type": "execute_result",
          "data": {
            "text/plain": [
              "3    13158\n",
              "4     2577\n",
              "2     2386\n",
              "1     2189\n",
              "0     1087\n",
              "Name: label, dtype: int64"
            ]
          },
          "metadata": {},
          "execution_count": 13
        }
      ]
    },
    {
      "cell_type": "code",
      "metadata": {
        "colab": {
          "base_uri": "https://localhost:8080/",
          "height": 81
        },
        "id": "dBzFk7OiY_HR",
        "outputId": "29df8aab-71d7-4239-ba1e-74a934ad1a52"
      },
      "source": [
        "submission = pd.read_csv('input/cassava-leaf-disease-classification/sample_submission.csv')\n",
        "submission.head()"
      ],
      "execution_count": null,
      "outputs": [
        {
          "output_type": "execute_result",
          "data": {
            "text/html": [
              "<div>\n",
              "<style scoped>\n",
              "    .dataframe tbody tr th:only-of-type {\n",
              "        vertical-align: middle;\n",
              "    }\n",
              "\n",
              "    .dataframe tbody tr th {\n",
              "        vertical-align: top;\n",
              "    }\n",
              "\n",
              "    .dataframe thead th {\n",
              "        text-align: right;\n",
              "    }\n",
              "</style>\n",
              "<table border=\"1\" class=\"dataframe\">\n",
              "  <thead>\n",
              "    <tr style=\"text-align: right;\">\n",
              "      <th></th>\n",
              "      <th>image_id</th>\n",
              "      <th>label</th>\n",
              "    </tr>\n",
              "  </thead>\n",
              "  <tbody>\n",
              "    <tr>\n",
              "      <th>0</th>\n",
              "      <td>2216849948.jpg</td>\n",
              "      <td>4</td>\n",
              "    </tr>\n",
              "  </tbody>\n",
              "</table>\n",
              "</div>"
            ],
            "text/plain": [
              "         image_id  label\n",
              "0  2216849948.jpg      4"
            ]
          },
          "metadata": {},
          "execution_count": 14
        }
      ]
    },
    {
      "cell_type": "markdown",
      "metadata": {
        "id": "mzZLdR1XZKDN"
      },
      "source": [
        "## Helper Functions"
      ]
    },
    {
      "cell_type": "code",
      "metadata": {
        "id": "97X_lKKKZMp-",
        "colab": {
          "base_uri": "https://localhost:8080/",
          "height": 269
        },
        "outputId": "79fc3adc-d2a1-4eb9-a904-87ac009994b9"
      },
      "source": [
        "def seed_everything(seed):\n",
        "    random.seed(seed)\n",
        "    os.environ['PYTHONHASHSEED'] = str(seed)\n",
        "    np.random.seed(seed)\n",
        "    torch.manual_seed(seed)\n",
        "    torch.cuda.manual_seed(seed)\n",
        "    torch.backends.cudnn.deterministic = True\n",
        "    torch.backends.cudnn.benchmark = True\n",
        "    \n",
        "def get_img(pathw):\n",
        "    im_bgr = cv2.imread(pathw)\n",
        "    im_rgb = im_bgr[:, :, ::-1]\n",
        "    return im_rgb\n",
        "\n",
        "img = get_img('input/cassava-leaf-disease-classification/train_images/1000015157.jpg')\n",
        "plt.imshow(img)\n",
        "plt.show()"
      ],
      "execution_count": null,
      "outputs": [
        {
          "output_type": "display_data",
          "data": {
            "image/png": "[encoded data removed]",
            "text/plain": [
              "<Figure size 432x288 with 1 Axes>"
            ]
          },
          "metadata": {
            "needs_background": "light"
          }
        }
      ]
    },
    {
      "cell_type": "markdown",
      "metadata": {
        "id": "W05QsNpdZUxE"
      },
      "source": [
        "## Dataset"
      ]
    },
    {
      "cell_type": "code",
      "metadata": {
        "id": "o3DeWc-NZWRm"
      },
      "source": [
        "def rand_bbox(size, lam):\n",
        "    W = size[0]\n",
        "    H = size[1]\n",
        "    cut_rat = np.sqrt(1. - lam)\n",
        "    cut_w = np.int(W * cut_rat)\n",
        "    cut_h = np.int(H * cut_rat)\n",
        "\n",
        "    # uniform\n",
        "    cx = np.random.randint(W)\n",
        "    cy = np.random.randint(H)\n",
        "\n",
        "    bbx1 = np.clip(cx - cut_w // 2, 0, W)\n",
        "    bby1 = np.clip(cy - cut_h // 2, 0, H)\n",
        "    bbx2 = np.clip(cx + cut_w // 2, 0, W)\n",
        "    bby2 = np.clip(cy + cut_h // 2, 0, H)\n",
        "    return bbx1, bby1, bbx2, bby2\n",
        "\n",
        "\n",
        "class CassavaDataset(Dataset):\n",
        "    def __init__(self, df, data_root, \n",
        "                 transforms=None, \n",
        "                 output_label=True, \n",
        "                 one_hot_label=False,\n",
        "                 do_fmix=False, \n",
        "                 fmix_params={\n",
        "                     'alpha': 1., \n",
        "                     'decay_power': 3., \n",
        "                     'shape': (CFG['img_size'], CFG['img_size']),\n",
        "                     'max_soft': True, \n",
        "                     'reformulate': False\n",
        "                 },\n",
        "                 do_cutmix=False,\n",
        "                 cutmix_params={\n",
        "                     'alpha': 1,\n",
        "                 }\n",
        "                ):\n",
        "        \n",
        "        super().__init__()\n",
        "        self.df = df.reset_index(drop=True).copy()\n",
        "        self.transforms = transforms\n",
        "        self.data_root = data_root\n",
        "        self.do_fmix = do_fmix\n",
        "        self.fmix_params = fmix_params\n",
        "        self.do_cutmix = do_cutmix\n",
        "        self.cutmix_params = cutmix_params\n",
        "        \n",
        "        self.output_label = output_label\n",
        "        self.one_hot_label = one_hot_label\n",
        "        \n",
        "        if output_label == True:\n",
        "            self.labels = self.df['label'].values\n",
        "            #print(self.labels)\n",
        "            \n",
        "            if one_hot_label is True:\n",
        "                self.labels = np.eye(self.df['label'].max()+1)[self.labels]\n",
        "                #print(self.labels)\n",
        "            \n",
        "    def __len__(self):\n",
        "        return self.df.shape[0]\n",
        "    \n",
        "    def __getitem__(self, index: int):\n",
        "        \n",
        "        # get labels\n",
        "        if self.output_label:\n",
        "            target = self.labels[index]\n",
        "          \n",
        "        img  = get_img(\"{}/{}\".format(self.data_root, self.df.loc[index]['image_id']))\n",
        "\n",
        "        if self.transforms:\n",
        "            img = self.transforms(image=img)['image']\n",
        "        \n",
        "        if self.do_fmix and np.random.uniform(0., 1., size=1)[0] > 0.5:\n",
        "            with torch.no_grad():\n",
        "                #lam, mask = sample_mask(**self.fmix_params)\n",
        "                \n",
        "                lam = np.clip(np.random.beta(self.fmix_params['alpha'], self.fmix_params['alpha']),0.6,0.7)\n",
        "                \n",
        "                # Make mask, get mean / std\n",
        "                mask = make_low_freq_image(self.fmix_params['decay_power'], self.fmix_params['shape'])\n",
        "                mask = binarise_mask(mask, lam, self.fmix_params['shape'], self.fmix_params['max_soft'])\n",
        "    \n",
        "                fmix_ix = np.random.choice(self.df.index, size=1)[0]\n",
        "                fmix_img  = get_img(\"{}/{}\".format(self.data_root, self.df.iloc[fmix_ix]['image_id']))\n",
        "\n",
        "                if self.transforms:\n",
        "                    fmix_img = self.transforms(image=fmix_img)['image']\n",
        "\n",
        "                mask_torch = torch.from_numpy(mask)\n",
        "                \n",
        "                # mix image\n",
        "                img = mask_torch*img+(1.-mask_torch)*fmix_img\n",
        "\n",
        "                #print(mask.shape)\n",
        "\n",
        "                #assert self.output_label==True and self.one_hot_label==True\n",
        "\n",
        "                # mix target\n",
        "                rate = mask.sum()/CFG['img_size']/CFG['img_size']\n",
        "                target = rate*target + (1.-rate)*self.labels[fmix_ix]\n",
        "                #print(target, mask, img)\n",
        "                #assert False\n",
        "        \n",
        "        if self.do_cutmix and np.random.uniform(0., 1., size=1)[0] > 0.5:\n",
        "            #print(img.sum(), img.shape)\n",
        "            with torch.no_grad():\n",
        "                cmix_ix = np.random.choice(self.df.index, size=1)[0]\n",
        "                cmix_img  = get_img(\"{}/{}\".format(self.data_root, self.df.iloc[cmix_ix]['image_id']))\n",
        "                if self.transforms:\n",
        "                    cmix_img = self.transforms(image=cmix_img)['image']\n",
        "                    \n",
        "                lam = np.clip(np.random.beta(self.cutmix_params['alpha'], self.cutmix_params['alpha']),0.3,0.4)\n",
        "                bbx1, bby1, bbx2, bby2 = rand_bbox((CFG['img_size'], CFG['img_size']), lam)\n",
        "\n",
        "                img[:, bbx1:bbx2, bby1:bby2] = cmix_img[:, bbx1:bbx2, bby1:bby2]\n",
        "\n",
        "                rate = 1 - ((bbx2 - bbx1) * (bby2 - bby1) / (CFG['img_size'] * CFG['img_size']))\n",
        "                target = rate*target + (1.-rate)*self.labels[cmix_ix]\n",
        "                \n",
        "            #print('-', img.sum())\n",
        "            #print(target)\n",
        "            #assert False\n",
        "                            \n",
        "        # do label smoothing\n",
        "        #print(type(img), type(target))\n",
        "        if self.output_label == True:\n",
        "            return img, target\n",
        "        else:\n",
        "            return img"
      ],
      "execution_count": null,
      "outputs": []
    },
    {
      "cell_type": "markdown",
      "metadata": {
        "id": "niiwVIssZjXy"
      },
      "source": [
        "## Define Training and Validation Image Augmentations"
      ]
    },
    {
      "cell_type": "code",
      "metadata": {
        "id": "nCkDCkP8Znt8"
      },
      "source": [
        "def get_train_transforms():\n",
        "    return Compose([\n",
        "            RandomResizedCrop(CFG['img_size'], CFG['img_size']),\n",
        "            Transpose(p=0.5),\n",
        "            HorizontalFlip(p=0.5),\n",
        "            VerticalFlip(p=0.5),\n",
        "            ShiftScaleRotate(p=0.5),\n",
        "            HueSaturationValue(hue_shift_limit=0.2, sat_shift_limit=0.2, val_shift_limit=0.2, p=0.5),\n",
        "            RandomBrightnessContrast(brightness_limit=(-0.1,0.1), contrast_limit=(-0.1, 0.1), p=0.5),\n",
        "            Normalize(mean=[0.485, 0.456, 0.406], std=[0.229, 0.224, 0.225], max_pixel_value=255.0, p=1.0),\n",
        "            CoarseDropout(p=0.5),\n",
        "            Cutout(p=0.5),\n",
        "            ToTensorV2(p=1.0),\n",
        "        ], p=1.)\n",
        "  \n",
        "        \n",
        "def get_valid_transforms():\n",
        "    return Compose([\n",
        "            CenterCrop(CFG['img_size'], CFG['img_size'], p=1.),\n",
        "            Resize(CFG['img_size'], CFG['img_size']),\n",
        "            Normalize(mean=[0.485, 0.456, 0.406], std=[0.229, 0.224, 0.225], max_pixel_value=255.0, p=1.0),\n",
        "            ToTensorV2(p=1.0),\n",
        "        ], p=1.)"
      ],
      "execution_count": null,
      "outputs": []
    },
    {
      "cell_type": "markdown",
      "metadata": {
        "id": "01dU14-hZs4B"
      },
      "source": [
        "## Model"
      ]
    },
    {
      "cell_type": "code",
      "metadata": {
        "id": "c8whBqY-ZuJr"
      },
      "source": [
        "class CassvaImgClassifier(nn.Module):\n",
        "    def __init__(self, model_arch, n_class, pretrained=False):\n",
        "        super().__init__()\n",
        "        self.model = timm.create_model(model_arch, pretrained=pretrained)\n",
        "        #n_features = self.model.classifier.in_features\n",
        "        #self.model.classifier = nn.Linear(n_features, n_class)\n",
        "        n_features = self.model.head.in_features\n",
        "        self.model.head = nn.Linear(n_features, n_class)\n",
        "        '''\n",
        "        self.model.classifier = nn.Sequential(\n",
        "            nn.Dropout(0.3),\n",
        "            #nn.Linear(n_features, hidden_size,bias=True), nn.ELU(),\n",
        "            nn.Linear(n_features, n_class, bias=True)\n",
        "        )\n",
        "        '''\n",
        "    def forward(self, x):\n",
        "        x = self.model(x)\n",
        "        return x"
      ],
      "execution_count": null,
      "outputs": []
    },
    {
      "cell_type": "markdown",
      "metadata": {
        "id": "ALbURc0wZ-0v"
      },
      "source": [
        "## Training APIs"
      ]
    },
    {
      "cell_type": "code",
      "metadata": {
        "id": "aH6jlm36Z__i"
      },
      "source": [
        "def prepare_dataloader(df, trn_idx, val_idx, data_root='input/cassava-leaf-disease-classification/train_images/'):\n",
        "    \n",
        "    from catalyst.data.sampler import BalanceClassSampler\n",
        "    \n",
        "    train_ = df.loc[trn_idx,:].reset_index(drop=True)\n",
        "    valid_ = df.loc[val_idx,:].reset_index(drop=True)\n",
        "        \n",
        "    train_ds = CassavaDataset(train_, data_root, transforms=get_train_transforms(), output_label=True, one_hot_label=False, do_fmix=False, do_cutmix=False)\n",
        "    valid_ds = CassavaDataset(valid_, data_root, transforms=get_valid_transforms(), output_label=True)\n",
        "    \n",
        "    train_loader = torch.utils.data.DataLoader(\n",
        "        train_ds,\n",
        "        batch_size=CFG['train_bs'],\n",
        "        pin_memory=False,\n",
        "        drop_last=False,\n",
        "        shuffle=True,        \n",
        "        num_workers=CFG['num_workers'],\n",
        "        #sampler=BalanceClassSampler(labels=train_['label'].values, mode=\"downsampling\")\n",
        "    )\n",
        "    val_loader = torch.utils.data.DataLoader(\n",
        "        valid_ds, \n",
        "        batch_size=CFG['valid_bs'],\n",
        "        num_workers=CFG['num_workers'],\n",
        "        shuffle=False,\n",
        "        pin_memory=False,\n",
        "    )\n",
        "    return train_loader, val_loader\n",
        "\n",
        "def train_one_epoch(epoch, model, loss_fn, optimizer, train_loader, device, scheduler=None, schd_batch_update=False):\n",
        "    model.train()\n",
        "\n",
        "    t = time.time()\n",
        "    running_loss = None\n",
        "\n",
        "    pbar = tqdm(enumerate(train_loader), total=len(train_loader))\n",
        "    for step, (imgs, image_labels) in pbar:\n",
        "        imgs = imgs.to(device).float()\n",
        "        image_labels = image_labels.to(device).long()\n",
        "\n",
        "        #print(image_labels.shape, exam_label.shape)\n",
        "        with autocast():\n",
        "            image_preds = model(imgs)   #output = model(input)\n",
        "            #print(image_preds.shape, exam_pred.shape)\n",
        "\n",
        "            loss = loss_fn(image_preds, image_labels)\n",
        "            \n",
        "            scaler.scale(loss).backward()\n",
        "\n",
        "            if running_loss is None:\n",
        "                running_loss = loss.item()\n",
        "            else:\n",
        "                running_loss = running_loss * .99 + loss.item() * .01\n",
        "\n",
        "            if ((step + 1) %  CFG['accum_iter'] == 0) or ((step + 1) == len(train_loader)):\n",
        "                # may unscale_ here if desired (e.g., to allow clipping unscaled gradients)\n",
        "\n",
        "                scaler.step(optimizer)\n",
        "                scaler.update()\n",
        "                optimizer.zero_grad() \n",
        "                \n",
        "                if scheduler is not None and schd_batch_update:\n",
        "                    scheduler.step()\n",
        "\n",
        "            if ((step + 1) % CFG['verbose_step'] == 0) or ((step + 1) == len(train_loader)):\n",
        "                description = f'epoch {epoch} loss: {running_loss:.4f}'\n",
        "                \n",
        "                pbar.set_description(description)\n",
        "                \n",
        "    if scheduler is not None and not schd_batch_update:\n",
        "        scheduler.step()\n",
        "        \n",
        "def valid_one_epoch(epoch, model, loss_fn, val_loader, device, scheduler=None, schd_loss_update=False):\n",
        "    model.eval()\n",
        "\n",
        "    t = time.time()\n",
        "    loss_sum = 0\n",
        "    sample_num = 0\n",
        "    image_preds_all = []\n",
        "    image_targets_all = []\n",
        "    \n",
        "    pbar = tqdm(enumerate(val_loader), total=len(val_loader))\n",
        "    for step, (imgs, image_labels) in pbar:\n",
        "        imgs = imgs.to(device).float()\n",
        "        image_labels = image_labels.to(device).long()\n",
        "        \n",
        "        image_preds = model(imgs)   #output = model(input)\n",
        "        #print(image_preds.shape, exam_pred.shape)\n",
        "        image_preds_all += [torch.argmax(image_preds, 1).detach().cpu().numpy()]\n",
        "        image_targets_all += [image_labels.detach().cpu().numpy()]\n",
        "        \n",
        "        loss = loss_fn(image_preds, image_labels)\n",
        "        \n",
        "        loss_sum += loss.item()*image_labels.shape[0]\n",
        "        sample_num += image_labels.shape[0]  \n",
        "\n",
        "        if ((step + 1) % CFG['verbose_step'] == 0) or ((step + 1) == len(val_loader)):\n",
        "            description = f'epoch {epoch} loss: {loss_sum/sample_num:.4f}'\n",
        "            pbar.set_description(description)\n",
        "    \n",
        "    image_preds_all = np.concatenate(image_preds_all)\n",
        "    image_targets_all = np.concatenate(image_targets_all)\n",
        "    print('validation multi-class accuracy = {:.4f}'.format((image_preds_all==image_targets_all).mean()))\n",
        "    \n",
        "    if scheduler is not None:\n",
        "        if schd_loss_update:\n",
        "            scheduler.step(loss_sum/sample_num)\n",
        "        else:\n",
        "            scheduler.step()"
      ],
      "execution_count": null,
      "outputs": []
    },
    {
      "cell_type": "code",
      "metadata": {
        "id": "TuiHdOx7k0oX"
      },
      "source": [
        "# reference: https://www.kaggle.com/c/siim-isic-melanoma-classification/discussion/173733\n",
        "class MyCrossEntropyLoss(_WeightedLoss):\n",
        "    def __init__(self, weight=None, reduction='mean'):\n",
        "        super().__init__(weight=weight, reduction=reduction)\n",
        "        self.weight = weight\n",
        "        self.reduction = reduction\n",
        "\n",
        "    def forward(self, inputs, targets):\n",
        "        lsm = F.log_softmax(inputs, -1)\n",
        "\n",
        "        if self.weight is not None:\n",
        "            lsm = lsm * self.weight.unsqueeze(0)\n",
        "\n",
        "        loss = -(targets * lsm).sum(-1)\n",
        "\n",
        "        if  self.reduction == 'sum':\n",
        "            loss = loss.sum()\n",
        "        elif  self.reduction == 'mean':\n",
        "            loss = loss.mean()\n",
        "\n",
        "        return loss"
      ],
      "execution_count": null,
      "outputs": []
    },
    {
      "cell_type": "markdown",
      "metadata": {
        "id": "1Q1rZSxzk3MV"
      },
      "source": [
        "## Main Training Loop"
      ]
    },
    {
      "cell_type": "code",
      "metadata": {
        "colab": {
          "base_uri": "https://localhost:8080/"
        },
        "id": "1IS7ye8tk5DW",
        "outputId": "125e3212-efb6-4d6c-b3f0-6ce636f6516e"
      },
      "source": [
        "if __name__ == '__main__':\n",
        "     # for training only, need nightly build pytorch\n",
        "\n",
        "    seed_everything(CFG['seed'])\n",
        "    \n",
        "    folds = StratifiedKFold(n_splits=CFG['fold_num'], shuffle=True, random_state=CFG['seed']).split(np.arange(train.shape[0]), train.label.values)\n",
        "    \n",
        "    for fold, (trn_idx, val_idx) in enumerate(folds):\n",
        "        print('\\nTraining with fold {} started'.format(fold))\n",
        "\n",
        "        print(len(trn_idx), len(val_idx))\n",
        "        train_loader, val_loader = prepare_dataloader(train, trn_idx, val_idx, data_root='input/cassava-leaf-disease-classification/train_images/')\n",
        "\n",
        "        device = torch.device(CFG['device'])\n",
        "        \n",
        "        model = CassvaImgClassifier(CFG['model_arch'], train.label.nunique(), pretrained=True).to(device)\n",
        "        scaler = GradScaler()   \n",
        "        optimizer = torch.optim.Adam(model.parameters(), lr=CFG['lr'], weight_decay=CFG['weight_decay'])\n",
        "        #scheduler = torch.optim.lr_scheduler.StepLR(optimizer, gamma=0.1, step_size=CFG['epochs']-1)\n",
        "        scheduler = torch.optim.lr_scheduler.CosineAnnealingWarmRestarts(optimizer, T_0=CFG['T_0'], T_mult=1, eta_min=CFG['min_lr'], last_epoch=-1)\n",
        "        #scheduler = torch.optim.lr_scheduler.OneCycleLR(optimizer=optimizer, pct_start=0.1, div_factor=25, \n",
        "        #                                                max_lr=CFG['lr'], epochs=CFG['epochs'], steps_per_epoch=len(train_loader))\n",
        "        \n",
        "        loss_tr = nn.CrossEntropyLoss().to(device) #MyCrossEntropyLoss().to(device)\n",
        "        loss_fn = nn.CrossEntropyLoss().to(device)\n",
        "        \n",
        "        for epoch in range(CFG['epochs']):\n",
        "            train_one_epoch(epoch, model, loss_tr, optimizer, train_loader, device, scheduler=scheduler, schd_batch_update=False)\n",
        "\n",
        "            with torch.no_grad():\n",
        "                valid_one_epoch(epoch, model, loss_fn, val_loader, device, scheduler=None, schd_loss_update=False)\n",
        "\n",
        "            torch.save(model.state_dict(),'output/{}_fold_{}_{}'.format(CFG['model_arch'], fold, epoch))\n",
        "            \n",
        "        #torch.save(model.cnn_model.state_dict(),'{}/cnn_model_fold_{}_{}'.format(CFG['model_path'], fold, CFG['tag']))\n",
        "        del model, optimizer, train_loader, val_loader, scaler, scheduler\n",
        "        torch.cuda.empty_cache()"
      ],
      "execution_count": null,
      "outputs": [
        {
          "output_type": "stream",
          "name": "stdout",
          "text": [
            "Training with 0 started\n",
            "17117 4280\n"
          ]
        },
        {
          "output_type": "stream",
          "name": "stderr",
          "text": [
            "/usr/local/lib/python3.7/dist-packages/albumentations/augmentations/transforms.py:690: FutureWarning: This class has been deprecated. Please use CoarseDropout\n",
            "  FutureWarning,\n",
            "Downloading: \"https://github.com/rwightman/pytorch-image-models/releases/download/v0.1-vitjx/jx_vit_base_p16_224-80ecf9dd.pth\" to /root/.cache/torch/hub/checkpoints/jx_vit_base_p16_224-80ecf9dd.pth\n",
            "epoch 0 loss: 0.5482: 100%|██████████| 1070/1070 [39:07<00:00,  2.19s/it]\n",
            "epoch 0 loss: 0.4632: 100%|██████████| 134/134 [18:58<00:00,  8.49s/it]\n"
          ]
        },
        {
          "output_type": "stream",
          "name": "stdout",
          "text": [
            "validation multi-class accuracy = 0.8395\n"
          ]
        },
        {
          "output_type": "stream",
          "name": "stderr",
          "text": [
            "epoch 1 loss: 0.4518: 100%|██████████| 1070/1070 [01:12<00:00, 14.81it/s]\n",
            "epoch 1 loss: 0.4598: 100%|██████████| 134/134 [00:12<00:00, 10.43it/s]\n"
          ]
        },
        {
          "output_type": "stream",
          "name": "stdout",
          "text": [
            "validation multi-class accuracy = 0.8416\n"
          ]
        },
        {
          "output_type": "stream",
          "name": "stderr",
          "text": [
            "epoch 2 loss: 0.4454: 100%|██████████| 1070/1070 [01:12<00:00, 14.80it/s]\n",
            "epoch 2 loss: 0.4733: 100%|██████████| 134/134 [00:12<00:00, 10.67it/s]\n"
          ]
        },
        {
          "output_type": "stream",
          "name": "stdout",
          "text": [
            "validation multi-class accuracy = 0.8339\n"
          ]
        },
        {
          "output_type": "stream",
          "name": "stderr",
          "text": [
            "epoch 3 loss: 0.3861: 100%|██████████| 1070/1070 [01:12<00:00, 14.82it/s]\n",
            "epoch 3 loss: 0.4320: 100%|██████████| 134/134 [00:12<00:00, 10.77it/s]\n"
          ]
        },
        {
          "output_type": "stream",
          "name": "stdout",
          "text": [
            "validation multi-class accuracy = 0.8488\n"
          ]
        },
        {
          "output_type": "stream",
          "name": "stderr",
          "text": [
            "epoch 4 loss: 0.3901: 100%|██████████| 1070/1070 [01:12<00:00, 14.81it/s]\n",
            "epoch 4 loss: 0.4827: 100%|██████████| 134/134 [00:12<00:00, 10.59it/s]\n"
          ]
        },
        {
          "output_type": "stream",
          "name": "stdout",
          "text": [
            "validation multi-class accuracy = 0.8325\n"
          ]
        },
        {
          "output_type": "stream",
          "name": "stderr",
          "text": [
            "epoch 5 loss: 0.3483: 100%|██████████| 1070/1070 [01:12<00:00, 14.81it/s]\n",
            "epoch 5 loss: 0.4203: 100%|██████████| 134/134 [00:12<00:00, 10.48it/s]\n"
          ]
        },
        {
          "output_type": "stream",
          "name": "stdout",
          "text": [
            "validation multi-class accuracy = 0.8563\n"
          ]
        },
        {
          "output_type": "stream",
          "name": "stderr",
          "text": [
            "epoch 6 loss: 0.3050: 100%|██████████| 1070/1070 [01:12<00:00, 14.80it/s]\n",
            "epoch 6 loss: 0.4085: 100%|██████████| 134/134 [00:12<00:00, 10.60it/s]\n"
          ]
        },
        {
          "output_type": "stream",
          "name": "stdout",
          "text": [
            "validation multi-class accuracy = 0.8633\n"
          ]
        },
        {
          "output_type": "stream",
          "name": "stderr",
          "text": [
            "epoch 7 loss: 0.2887: 100%|██████████| 1070/1070 [01:12<00:00, 14.80it/s]\n",
            "epoch 7 loss: 0.3995: 100%|██████████| 134/134 [00:12<00:00, 10.55it/s]\n"
          ]
        },
        {
          "output_type": "stream",
          "name": "stdout",
          "text": [
            "validation multi-class accuracy = 0.8631\n"
          ]
        },
        {
          "output_type": "stream",
          "name": "stderr",
          "text": [
            "epoch 8 loss: 0.2499: 100%|██████████| 1070/1070 [01:12<00:00, 14.78it/s]\n",
            "epoch 8 loss: 0.4036: 100%|██████████| 134/134 [00:12<00:00, 10.51it/s]\n"
          ]
        },
        {
          "output_type": "stream",
          "name": "stdout",
          "text": [
            "validation multi-class accuracy = 0.8682\n"
          ]
        },
        {
          "output_type": "stream",
          "name": "stderr",
          "text": [
            "epoch 9 loss: 0.2304: 100%|██████████| 1070/1070 [01:12<00:00, 14.78it/s]\n",
            "epoch 9 loss: 0.4011: 100%|██████████| 134/134 [00:12<00:00, 10.67it/s]\n"
          ]
        },
        {
          "output_type": "stream",
          "name": "stdout",
          "text": [
            "validation multi-class accuracy = 0.8680\n",
            "Training with 1 started\n",
            "17117 4280\n"
          ]
        },
        {
          "output_type": "stream",
          "name": "stderr",
          "text": [
            "epoch 0 loss: 0.4635: 100%|██████████| 1070/1070 [01:12<00:00, 14.69it/s]\n",
            "epoch 0 loss: 0.5591: 100%|██████████| 134/134 [00:12<00:00, 10.73it/s]\n"
          ]
        },
        {
          "output_type": "stream",
          "name": "stdout",
          "text": [
            "validation multi-class accuracy = 0.8042\n"
          ]
        },
        {
          "output_type": "stream",
          "name": "stderr",
          "text": [
            "epoch 1 loss: 0.4308: 100%|██████████| 1070/1070 [01:12<00:00, 14.74it/s]\n",
            "epoch 1 loss: 0.4908: 100%|██████████| 134/134 [00:12<00:00, 10.65it/s]\n"
          ]
        },
        {
          "output_type": "stream",
          "name": "stdout",
          "text": [
            "validation multi-class accuracy = 0.8297\n"
          ]
        },
        {
          "output_type": "stream",
          "name": "stderr",
          "text": [
            "epoch 2 loss: 0.4105: 100%|██████████| 1070/1070 [01:12<00:00, 14.69it/s]\n",
            "epoch 2 loss: 0.4817: 100%|██████████| 134/134 [00:12<00:00, 10.68it/s]\n"
          ]
        },
        {
          "output_type": "stream",
          "name": "stdout",
          "text": [
            "validation multi-class accuracy = 0.8278\n"
          ]
        },
        {
          "output_type": "stream",
          "name": "stderr",
          "text": [
            "epoch 3 loss: 0.3883: 100%|██████████| 1070/1070 [01:12<00:00, 14.78it/s]\n",
            "epoch 3 loss: 0.4412: 100%|██████████| 134/134 [00:12<00:00, 10.72it/s]\n"
          ]
        },
        {
          "output_type": "stream",
          "name": "stdout",
          "text": [
            "validation multi-class accuracy = 0.8495\n"
          ]
        },
        {
          "output_type": "stream",
          "name": "stderr",
          "text": [
            "epoch 4 loss: 0.3839: 100%|██████████| 1070/1070 [01:12<00:00, 14.75it/s]\n",
            "epoch 4 loss: 0.4576: 100%|██████████| 134/134 [00:12<00:00, 10.72it/s]\n"
          ]
        },
        {
          "output_type": "stream",
          "name": "stdout",
          "text": [
            "validation multi-class accuracy = 0.8411\n"
          ]
        },
        {
          "output_type": "stream",
          "name": "stderr",
          "text": [
            "epoch 5 loss: 0.3193: 100%|██████████| 1070/1070 [01:12<00:00, 14.74it/s]\n",
            "epoch 5 loss: 0.4520: 100%|██████████| 134/134 [00:12<00:00, 10.74it/s]\n"
          ]
        },
        {
          "output_type": "stream",
          "name": "stdout",
          "text": [
            "validation multi-class accuracy = 0.8456\n"
          ]
        },
        {
          "output_type": "stream",
          "name": "stderr",
          "text": [
            "epoch 6 loss: 0.3187: 100%|██████████| 1070/1070 [01:12<00:00, 14.76it/s]\n",
            "epoch 6 loss: 0.4127: 100%|██████████| 134/134 [00:12<00:00, 10.75it/s]\n"
          ]
        },
        {
          "output_type": "stream",
          "name": "stdout",
          "text": [
            "validation multi-class accuracy = 0.8645\n"
          ]
        },
        {
          "output_type": "stream",
          "name": "stderr",
          "text": [
            "epoch 7 loss: 0.2795: 100%|██████████| 1070/1070 [01:12<00:00, 14.76it/s]\n",
            "epoch 7 loss: 0.4188: 100%|██████████| 134/134 [00:12<00:00, 10.81it/s]\n"
          ]
        },
        {
          "output_type": "stream",
          "name": "stdout",
          "text": [
            "validation multi-class accuracy = 0.8629\n"
          ]
        },
        {
          "output_type": "stream",
          "name": "stderr",
          "text": [
            "epoch 8 loss: 0.2536: 100%|██████████| 1070/1070 [01:12<00:00, 14.73it/s]\n",
            "epoch 8 loss: 0.4252: 100%|██████████| 134/134 [00:12<00:00, 10.69it/s]\n"
          ]
        },
        {
          "output_type": "stream",
          "name": "stdout",
          "text": [
            "validation multi-class accuracy = 0.8624\n"
          ]
        },
        {
          "output_type": "stream",
          "name": "stderr",
          "text": [
            "epoch 9 loss: 0.2399: 100%|██████████| 1070/1070 [01:12<00:00, 14.77it/s]\n",
            "epoch 9 loss: 0.4236: 100%|██████████| 134/134 [00:12<00:00, 10.33it/s]\n"
          ]
        },
        {
          "output_type": "stream",
          "name": "stdout",
          "text": [
            "validation multi-class accuracy = 0.8617\n",
            "Training with 2 started\n",
            "17118 4279\n"
          ]
        },
        {
          "output_type": "stream",
          "name": "stderr",
          "text": [
            "epoch 0 loss: 0.4569: 100%|██████████| 1070/1070 [01:12<00:00, 14.66it/s]\n",
            "epoch 0 loss: 0.4788: 100%|██████████| 134/134 [00:12<00:00, 10.80it/s]\n"
          ]
        },
        {
          "output_type": "stream",
          "name": "stdout",
          "text": [
            "validation multi-class accuracy = 0.8350\n"
          ]
        },
        {
          "output_type": "stream",
          "name": "stderr",
          "text": [
            "epoch 1 loss: 0.4447: 100%|██████████| 1070/1070 [01:12<00:00, 14.72it/s]\n",
            "epoch 1 loss: 0.4367: 100%|██████████| 134/134 [00:12<00:00, 10.78it/s]\n"
          ]
        },
        {
          "output_type": "stream",
          "name": "stdout",
          "text": [
            "validation multi-class accuracy = 0.8451\n"
          ]
        },
        {
          "output_type": "stream",
          "name": "stderr",
          "text": [
            "epoch 2 loss: 0.4241: 100%|██████████| 1070/1070 [01:12<00:00, 14.76it/s]\n",
            "epoch 2 loss: 0.4629: 100%|██████████| 134/134 [00:12<00:00, 10.61it/s]\n"
          ]
        },
        {
          "output_type": "stream",
          "name": "stdout",
          "text": [
            "validation multi-class accuracy = 0.8411\n"
          ]
        },
        {
          "output_type": "stream",
          "name": "stderr",
          "text": [
            "epoch 3 loss: 0.3763: 100%|██████████| 1070/1070 [01:12<00:00, 14.79it/s]\n",
            "epoch 3 loss: 0.4582: 100%|██████████| 134/134 [00:12<00:00, 10.63it/s]\n"
          ]
        },
        {
          "output_type": "stream",
          "name": "stdout",
          "text": [
            "validation multi-class accuracy = 0.8385\n"
          ]
        },
        {
          "output_type": "stream",
          "name": "stderr",
          "text": [
            "epoch 4 loss: 0.3789: 100%|██████████| 1070/1070 [01:12<00:00, 14.74it/s]\n",
            "epoch 4 loss: 0.4337: 100%|██████████| 134/134 [00:12<00:00, 10.83it/s]\n"
          ]
        },
        {
          "output_type": "stream",
          "name": "stdout",
          "text": [
            "validation multi-class accuracy = 0.8495\n"
          ]
        },
        {
          "output_type": "stream",
          "name": "stderr",
          "text": [
            "epoch 5 loss: 0.3170: 100%|██████████| 1070/1070 [01:12<00:00, 14.71it/s]\n",
            "epoch 5 loss: 0.4271: 100%|██████████| 134/134 [00:12<00:00, 10.63it/s]\n"
          ]
        },
        {
          "output_type": "stream",
          "name": "stdout",
          "text": [
            "validation multi-class accuracy = 0.8551\n"
          ]
        },
        {
          "output_type": "stream",
          "name": "stderr",
          "text": [
            "epoch 6 loss: 0.3015: 100%|██████████| 1070/1070 [01:12<00:00, 14.76it/s]\n",
            "epoch 6 loss: 0.4387: 100%|██████████| 134/134 [00:12<00:00, 10.73it/s]\n"
          ]
        },
        {
          "output_type": "stream",
          "name": "stdout",
          "text": [
            "validation multi-class accuracy = 0.8523\n"
          ]
        },
        {
          "output_type": "stream",
          "name": "stderr",
          "text": [
            "epoch 7 loss: 0.3057: 100%|██████████| 1070/1070 [01:12<00:00, 14.76it/s]\n",
            "epoch 7 loss: 0.4054: 100%|██████████| 134/134 [00:12<00:00, 10.57it/s]\n"
          ]
        },
        {
          "output_type": "stream",
          "name": "stdout",
          "text": [
            "validation multi-class accuracy = 0.8612\n"
          ]
        },
        {
          "output_type": "stream",
          "name": "stderr",
          "text": [
            "epoch 8 loss: 0.2486: 100%|██████████| 1070/1070 [01:12<00:00, 14.74it/s]\n",
            "epoch 8 loss: 0.4136: 100%|██████████| 134/134 [00:12<00:00, 10.69it/s]\n"
          ]
        },
        {
          "output_type": "stream",
          "name": "stdout",
          "text": [
            "validation multi-class accuracy = 0.8602\n"
          ]
        },
        {
          "output_type": "stream",
          "name": "stderr",
          "text": [
            "epoch 9 loss: 0.2166: 100%|██████████| 1070/1070 [01:12<00:00, 14.72it/s]\n",
            "epoch 9 loss: 0.4146: 100%|██████████| 134/134 [00:12<00:00, 10.62it/s]\n"
          ]
        },
        {
          "output_type": "stream",
          "name": "stdout",
          "text": [
            "validation multi-class accuracy = 0.8605\n",
            "Training with 3 started\n",
            "17118 4279\n"
          ]
        },
        {
          "output_type": "stream",
          "name": "stderr",
          "text": [
            "epoch 0 loss: 0.4920: 100%|██████████| 1070/1070 [01:12<00:00, 14.70it/s]\n",
            "epoch 0 loss: 0.4781: 100%|██████████| 134/134 [00:12<00:00, 10.75it/s]\n"
          ]
        },
        {
          "output_type": "stream",
          "name": "stdout",
          "text": [
            "validation multi-class accuracy = 0.8334\n"
          ]
        },
        {
          "output_type": "stream",
          "name": "stderr",
          "text": [
            "epoch 1 loss: 0.4910: 100%|██████████| 1070/1070 [01:12<00:00, 14.75it/s]\n",
            "epoch 1 loss: 0.4739: 100%|██████████| 134/134 [00:12<00:00, 10.78it/s]\n"
          ]
        },
        {
          "output_type": "stream",
          "name": "stdout",
          "text": [
            "validation multi-class accuracy = 0.8404\n"
          ]
        },
        {
          "output_type": "stream",
          "name": "stderr",
          "text": [
            "epoch 2 loss: 0.4516: 100%|██████████| 1070/1070 [01:12<00:00, 14.71it/s]\n",
            "epoch 2 loss: 0.4793: 100%|██████████| 134/134 [00:12<00:00, 10.68it/s]\n"
          ]
        },
        {
          "output_type": "stream",
          "name": "stdout",
          "text": [
            "validation multi-class accuracy = 0.8231\n"
          ]
        },
        {
          "output_type": "stream",
          "name": "stderr",
          "text": [
            "epoch 3 loss: 0.4261: 100%|██████████| 1070/1070 [01:12<00:00, 14.68it/s]\n",
            "epoch 3 loss: 0.4619: 100%|██████████| 134/134 [00:12<00:00, 10.65it/s]\n"
          ]
        },
        {
          "output_type": "stream",
          "name": "stdout",
          "text": [
            "validation multi-class accuracy = 0.8430\n"
          ]
        },
        {
          "output_type": "stream",
          "name": "stderr",
          "text": [
            "epoch 4 loss: 0.3705: 100%|██████████| 1070/1070 [01:12<00:00, 14.72it/s]\n",
            "epoch 4 loss: 0.4227: 100%|██████████| 134/134 [00:12<00:00, 10.58it/s]\n"
          ]
        },
        {
          "output_type": "stream",
          "name": "stdout",
          "text": [
            "validation multi-class accuracy = 0.8504\n"
          ]
        },
        {
          "output_type": "stream",
          "name": "stderr",
          "text": [
            "epoch 5 loss: 0.3528: 100%|██████████| 1070/1070 [01:12<00:00, 14.74it/s]\n",
            "epoch 5 loss: 0.4433: 100%|██████████| 134/134 [00:12<00:00, 10.52it/s]\n"
          ]
        },
        {
          "output_type": "stream",
          "name": "stdout",
          "text": [
            "validation multi-class accuracy = 0.8439\n"
          ]
        },
        {
          "output_type": "stream",
          "name": "stderr",
          "text": [
            "epoch 6 loss: 0.3252: 100%|██████████| 1070/1070 [01:12<00:00, 14.66it/s]\n",
            "epoch 6 loss: 0.4353: 100%|██████████| 134/134 [00:12<00:00, 10.70it/s]\n"
          ]
        },
        {
          "output_type": "stream",
          "name": "stdout",
          "text": [
            "validation multi-class accuracy = 0.8493\n"
          ]
        },
        {
          "output_type": "stream",
          "name": "stderr",
          "text": [
            "epoch 7 loss: 0.2673: 100%|██████████| 1070/1070 [01:12<00:00, 14.70it/s]\n",
            "epoch 7 loss: 0.4274: 100%|██████████| 134/134 [00:12<00:00, 10.51it/s]\n"
          ]
        },
        {
          "output_type": "stream",
          "name": "stdout",
          "text": [
            "validation multi-class accuracy = 0.8532\n"
          ]
        },
        {
          "output_type": "stream",
          "name": "stderr",
          "text": [
            "epoch 8 loss: 0.2503: 100%|██████████| 1070/1070 [01:12<00:00, 14.70it/s]\n",
            "epoch 8 loss: 0.4125: 100%|██████████| 134/134 [00:12<00:00, 10.69it/s]\n"
          ]
        },
        {
          "output_type": "stream",
          "name": "stdout",
          "text": [
            "validation multi-class accuracy = 0.8619\n"
          ]
        },
        {
          "output_type": "stream",
          "name": "stderr",
          "text": [
            "epoch 9 loss: 0.2527: 100%|██████████| 1070/1070 [01:12<00:00, 14.74it/s]\n",
            "epoch 9 loss: 0.4130: 100%|██████████| 134/134 [00:12<00:00, 10.57it/s]\n"
          ]
        },
        {
          "output_type": "stream",
          "name": "stdout",
          "text": [
            "validation multi-class accuracy = 0.8614\n",
            "Training with 4 started\n",
            "17118 4279\n"
          ]
        },
        {
          "output_type": "stream",
          "name": "stderr",
          "text": [
            "epoch 0 loss: 0.4903: 100%|██████████| 1070/1070 [01:12<00:00, 14.74it/s]\n",
            "epoch 0 loss: 0.4965: 100%|██████████| 134/134 [00:12<00:00, 10.70it/s]\n"
          ]
        },
        {
          "output_type": "stream",
          "name": "stdout",
          "text": [
            "validation multi-class accuracy = 0.8301\n"
          ]
        },
        {
          "output_type": "stream",
          "name": "stderr",
          "text": [
            "epoch 1 loss: 0.4831: 100%|██████████| 1070/1070 [01:12<00:00, 14.74it/s]\n",
            "epoch 1 loss: 0.4922: 100%|██████████| 134/134 [00:12<00:00, 10.75it/s]\n"
          ]
        },
        {
          "output_type": "stream",
          "name": "stdout",
          "text": [
            "validation multi-class accuracy = 0.8317\n"
          ]
        },
        {
          "output_type": "stream",
          "name": "stderr",
          "text": [
            "epoch 2 loss: 0.4389: 100%|██████████| 1070/1070 [01:12<00:00, 14.78it/s]\n",
            "epoch 2 loss: 0.4571: 100%|██████████| 134/134 [00:12<00:00, 10.77it/s]\n"
          ]
        },
        {
          "output_type": "stream",
          "name": "stdout",
          "text": [
            "validation multi-class accuracy = 0.8425\n"
          ]
        },
        {
          "output_type": "stream",
          "name": "stderr",
          "text": [
            "epoch 3 loss: 0.4043: 100%|██████████| 1070/1070 [01:12<00:00, 14.72it/s]\n",
            "epoch 3 loss: 0.4115: 100%|██████████| 134/134 [00:12<00:00, 10.76it/s]\n"
          ]
        },
        {
          "output_type": "stream",
          "name": "stdout",
          "text": [
            "validation multi-class accuracy = 0.8581\n"
          ]
        },
        {
          "output_type": "stream",
          "name": "stderr",
          "text": [
            "epoch 4 loss: 0.3914: 100%|██████████| 1070/1070 [01:12<00:00, 14.77it/s]\n",
            "epoch 4 loss: 0.4207: 100%|██████████| 134/134 [00:12<00:00, 10.79it/s]\n"
          ]
        },
        {
          "output_type": "stream",
          "name": "stdout",
          "text": [
            "validation multi-class accuracy = 0.8574\n"
          ]
        },
        {
          "output_type": "stream",
          "name": "stderr",
          "text": [
            "epoch 5 loss: 0.3432: 100%|██████████| 1070/1070 [01:12<00:00, 14.77it/s]\n",
            "epoch 5 loss: 0.4442: 100%|██████████| 134/134 [00:12<00:00, 10.71it/s]\n"
          ]
        },
        {
          "output_type": "stream",
          "name": "stdout",
          "text": [
            "validation multi-class accuracy = 0.8481\n"
          ]
        },
        {
          "output_type": "stream",
          "name": "stderr",
          "text": [
            "epoch 6 loss: 0.3168: 100%|██████████| 1070/1070 [01:12<00:00, 14.79it/s]\n",
            "epoch 6 loss: 0.3966: 100%|██████████| 134/134 [00:12<00:00, 10.72it/s]\n"
          ]
        },
        {
          "output_type": "stream",
          "name": "stdout",
          "text": [
            "validation multi-class accuracy = 0.8640\n"
          ]
        },
        {
          "output_type": "stream",
          "name": "stderr",
          "text": [
            "epoch 7 loss: 0.2765: 100%|██████████| 1070/1070 [01:12<00:00, 14.75it/s]\n",
            "epoch 7 loss: 0.4010: 100%|██████████| 134/134 [00:12<00:00, 10.96it/s]\n"
          ]
        },
        {
          "output_type": "stream",
          "name": "stdout",
          "text": [
            "validation multi-class accuracy = 0.8670\n"
          ]
        },
        {
          "output_type": "stream",
          "name": "stderr",
          "text": [
            "epoch 8 loss: 0.2567: 100%|██████████| 1070/1070 [01:12<00:00, 14.69it/s]\n",
            "epoch 8 loss: 0.3955: 100%|██████████| 134/134 [00:12<00:00, 10.88it/s]\n"
          ]
        },
        {
          "output_type": "stream",
          "name": "stdout",
          "text": [
            "validation multi-class accuracy = 0.8687\n"
          ]
        },
        {
          "output_type": "stream",
          "name": "stderr",
          "text": [
            "epoch 9 loss: 0.2453: 100%|██████████| 1070/1070 [01:12<00:00, 14.78it/s]\n",
            "epoch 9 loss: 0.3945: 100%|██████████| 134/134 [00:12<00:00, 10.67it/s]\n"
          ]
        },
        {
          "output_type": "stream",
          "name": "stdout",
          "text": [
            "validation multi-class accuracy = 0.8668\n"
          ]
        }
      ]
    },
    {
      "cell_type": "markdown",
      "metadata": {
        "id": "SNvhIx-MKXQf"
      },
      "source": [
        "# Save Trained Checkpoints to Drive"
      ]
    },
    {
      "cell_type": "code",
      "metadata": {
        "colab": {
          "base_uri": "https://localhost:8080/"
        },
        "id": "9jZ3VKAx_egt",
        "outputId": "ae0724d8-2786-42df-bceb-da66d65b2541"
      },
      "source": [
        "%cd ..\n",
        "\n",
        "!cp -r /content/Cassava-Leaf-Disease/output/vit_base_patch16_224_fold_0_0 drive/MyDrive/Kaggle-Projects/Cassava-Leaf-Disease/output/fold_0\n",
        "!cp -r /content/Cassava-Leaf-Disease/output/vit_base_patch16_224_fold_0_1 drive/MyDrive/Kaggle-Projects/Cassava-Leaf-Disease/output/fold_0\n",
        "!cp -r /content/Cassava-Leaf-Disease/output/vit_base_patch16_224_fold_0_2 drive/MyDrive/Kaggle-Projects/Cassava-Leaf-Disease/output/fold_0\n",
        "!cp -r /content/Cassava-Leaf-Disease/output/vit_base_patch16_224_fold_0_3 drive/MyDrive/Kaggle-Projects/Cassava-Leaf-Disease/output/fold_0\n",
        "!cp -r /content/Cassava-Leaf-Disease/output/vit_base_patch16_224_fold_0_4 drive/MyDrive/Kaggle-Projects/Cassava-Leaf-Disease/output/fold_0\n",
        "!cp -r /content/Cassava-Leaf-Disease/output/vit_base_patch16_224_fold_0_5 drive/MyDrive/Kaggle-Projects/Cassava-Leaf-Disease/output/fold_0\n",
        "!cp -r /content/Cassava-Leaf-Disease/output/vit_base_patch16_224_fold_0_6 drive/MyDrive/Kaggle-Projects/Cassava-Leaf-Disease/output/fold_0\n",
        "!cp -r /content/Cassava-Leaf-Disease/output/vit_base_patch16_224_fold_0_7 drive/MyDrive/Kaggle-Projects/Cassava-Leaf-Disease/output/fold_0\n",
        "!cp -r /content/Cassava-Leaf-Disease/output/vit_base_patch16_224_fold_0_8 drive/MyDrive/Kaggle-Projects/Cassava-Leaf-Disease/output/fold_0\n",
        "!cp -r /content/Cassava-Leaf-Disease/output/vit_base_patch16_224_fold_0_9 drive/MyDrive/Kaggle-Projects/Cassava-Leaf-Disease/output/fold_0"
      ],
      "execution_count": null,
      "outputs": [
        {
          "output_type": "stream",
          "name": "stdout",
          "text": [
            "/content\n"
          ]
        }
      ]
    },
    {
      "cell_type": "code",
      "metadata": {
        "id": "HwhjvlcFJ9Vj"
      },
      "source": [
        "!cp -r /content/Cassava-Leaf-Disease/output/vit_base_patch16_224_fold_1_0 drive/MyDrive/Kaggle-Projects/Cassava-Leaf-Disease/output/fold_1\n",
        "!cp -r /content/Cassava-Leaf-Disease/output/vit_base_patch16_224_fold_1_1 drive/MyDrive/Kaggle-Projects/Cassava-Leaf-Disease/output/fold_1\n",
        "!cp -r /content/Cassava-Leaf-Disease/output/vit_base_patch16_224_fold_1_2 drive/MyDrive/Kaggle-Projects/Cassava-Leaf-Disease/output/fold_1\n",
        "!cp -r /content/Cassava-Leaf-Disease/output/vit_base_patch16_224_fold_1_3 drive/MyDrive/Kaggle-Projects/Cassava-Leaf-Disease/output/fold_1\n",
        "!cp -r /content/Cassava-Leaf-Disease/output/vit_base_patch16_224_fold_1_4 drive/MyDrive/Kaggle-Projects/Cassava-Leaf-Disease/output/fold_1\n",
        "!cp -r /content/Cassava-Leaf-Disease/output/vit_base_patch16_224_fold_1_5 drive/MyDrive/Kaggle-Projects/Cassava-Leaf-Disease/output/fold_1\n",
        "!cp -r /content/Cassava-Leaf-Disease/output/vit_base_patch16_224_fold_1_6 drive/MyDrive/Kaggle-Projects/Cassava-Leaf-Disease/output/fold_1\n",
        "!cp -r /content/Cassava-Leaf-Disease/output/vit_base_patch16_224_fold_1_7 drive/MyDrive/Kaggle-Projects/Cassava-Leaf-Disease/output/fold_1\n",
        "!cp -r /content/Cassava-Leaf-Disease/output/vit_base_patch16_224_fold_1_8 drive/MyDrive/Kaggle-Projects/Cassava-Leaf-Disease/output/fold_1\n",
        "!cp -r /content/Cassava-Leaf-Disease/output/vit_base_patch16_224_fold_1_9 drive/MyDrive/Kaggle-Projects/Cassava-Leaf-Disease/output/fold_1"
      ],
      "execution_count": null,
      "outputs": []
    },
    {
      "cell_type": "code",
      "metadata": {
        "id": "kv1fEsLWJ9rm"
      },
      "source": [
        "!cp -r /content/Cassava-Leaf-Disease/output/vit_base_patch16_224_fold_2_0 drive/MyDrive/Kaggle-Projects/Cassava-Leaf-Disease/output/fold_2\n",
        "!cp -r /content/Cassava-Leaf-Disease/output/vit_base_patch16_224_fold_2_1 drive/MyDrive/Kaggle-Projects/Cassava-Leaf-Disease/output/fold_2\n",
        "!cp -r /content/Cassava-Leaf-Disease/output/vit_base_patch16_224_fold_2_2 drive/MyDrive/Kaggle-Projects/Cassava-Leaf-Disease/output/fold_2\n",
        "!cp -r /content/Cassava-Leaf-Disease/output/vit_base_patch16_224_fold_2_3 drive/MyDrive/Kaggle-Projects/Cassava-Leaf-Disease/output/fold_2\n",
        "!cp -r /content/Cassava-Leaf-Disease/output/vit_base_patch16_224_fold_2_4 drive/MyDrive/Kaggle-Projects/Cassava-Leaf-Disease/output/fold_2\n",
        "!cp -r /content/Cassava-Leaf-Disease/output/vit_base_patch16_224_fold_2_5 drive/MyDrive/Kaggle-Projects/Cassava-Leaf-Disease/output/fold_2\n",
        "!cp -r /content/Cassava-Leaf-Disease/output/vit_base_patch16_224_fold_2_6 drive/MyDrive/Kaggle-Projects/Cassava-Leaf-Disease/output/fold_2\n",
        "!cp -r /content/Cassava-Leaf-Disease/output/vit_base_patch16_224_fold_2_7 drive/MyDrive/Kaggle-Projects/Cassava-Leaf-Disease/output/fold_2\n",
        "!cp -r /content/Cassava-Leaf-Disease/output/vit_base_patch16_224_fold_2_8 drive/MyDrive/Kaggle-Projects/Cassava-Leaf-Disease/output/fold_2\n",
        "!cp -r /content/Cassava-Leaf-Disease/output/vit_base_patch16_224_fold_2_9 drive/MyDrive/Kaggle-Projects/Cassava-Leaf-Disease/output/fold_2"
      ],
      "execution_count": null,
      "outputs": []
    },
    {
      "cell_type": "code",
      "metadata": {
        "id": "rzeDnOCmJ99a"
      },
      "source": [
        "!cp -r /content/Cassava-Leaf-Disease/output/vit_base_patch16_224_fold_3_0 drive/MyDrive/Kaggle-Projects/Cassava-Leaf-Disease/output/fold_3\n",
        "!cp -r /content/Cassava-Leaf-Disease/output/vit_base_patch16_224_fold_3_1 drive/MyDrive/Kaggle-Projects/Cassava-Leaf-Disease/output/fold_3\n",
        "!cp -r /content/Cassava-Leaf-Disease/output/vit_base_patch16_224_fold_3_2 drive/MyDrive/Kaggle-Projects/Cassava-Leaf-Disease/output/fold_3\n",
        "!cp -r /content/Cassava-Leaf-Disease/output/vit_base_patch16_224_fold_3_3 drive/MyDrive/Kaggle-Projects/Cassava-Leaf-Disease/output/fold_3\n",
        "!cp -r /content/Cassava-Leaf-Disease/output/vit_base_patch16_224_fold_3_4 drive/MyDrive/Kaggle-Projects/Cassava-Leaf-Disease/output/fold_3\n",
        "!cp -r /content/Cassava-Leaf-Disease/output/vit_base_patch16_224_fold_3_5 drive/MyDrive/Kaggle-Projects/Cassava-Leaf-Disease/output/fold_3\n",
        "!cp -r /content/Cassava-Leaf-Disease/output/vit_base_patch16_224_fold_3_6 drive/MyDrive/Kaggle-Projects/Cassava-Leaf-Disease/output/fold_3\n",
        "!cp -r /content/Cassava-Leaf-Disease/output/vit_base_patch16_224_fold_3_7 drive/MyDrive/Kaggle-Projects/Cassava-Leaf-Disease/output/fold_3\n",
        "!cp -r /content/Cassava-Leaf-Disease/output/vit_base_patch16_224_fold_3_8 drive/MyDrive/Kaggle-Projects/Cassava-Leaf-Disease/output/fold_3\n",
        "!cp -r /content/Cassava-Leaf-Disease/output/vit_base_patch16_224_fold_3_9 drive/MyDrive/Kaggle-Projects/Cassava-Leaf-Disease/output/fold_3"
      ],
      "execution_count": null,
      "outputs": []
    },
    {
      "cell_type": "code",
      "metadata": {
        "id": "2eNw3oDSJ-LN"
      },
      "source": [
        "!cp -r /content/Cassava-Leaf-Disease/output/vit_base_patch16_224_fold_4_0 drive/MyDrive/Kaggle-Projects/Cassava-Leaf-Disease/output/fold_4\n",
        "!cp -r /content/Cassava-Leaf-Disease/output/vit_base_patch16_224_fold_4_1 drive/MyDrive/Kaggle-Projects/Cassava-Leaf-Disease/output/fold_4\n",
        "!cp -r /content/Cassava-Leaf-Disease/output/vit_base_patch16_224_fold_4_2 drive/MyDrive/Kaggle-Projects/Cassava-Leaf-Disease/output/fold_4\n",
        "!cp -r /content/Cassava-Leaf-Disease/output/vit_base_patch16_224_fold_4_3 drive/MyDrive/Kaggle-Projects/Cassava-Leaf-Disease/output/fold_4\n",
        "!cp -r /content/Cassava-Leaf-Disease/output/vit_base_patch16_224_fold_4_4 drive/MyDrive/Kaggle-Projects/Cassava-Leaf-Disease/output/fold_4\n",
        "!cp -r /content/Cassava-Leaf-Disease/output/vit_base_patch16_224_fold_4_5 drive/MyDrive/Kaggle-Projects/Cassava-Leaf-Disease/output/fold_4\n",
        "!cp -r /content/Cassava-Leaf-Disease/output/vit_base_patch16_224_fold_4_6 drive/MyDrive/Kaggle-Projects/Cassava-Leaf-Disease/output/fold_4\n",
        "!cp -r /content/Cassava-Leaf-Disease/output/vit_base_patch16_224_fold_4_7 drive/MyDrive/Kaggle-Projects/Cassava-Leaf-Disease/output/fold_4\n",
        "!cp -r /content/Cassava-Leaf-Disease/output/vit_base_patch16_224_fold_4_8 drive/MyDrive/Kaggle-Projects/Cassava-Leaf-Disease/output/fold_4\n",
        "!cp -r /content/Cassava-Leaf-Disease/output/vit_base_patch16_224_fold_4_9 drive/MyDrive/Kaggle-Projects/Cassava-Leaf-Disease/output/fold_4"
      ],
      "execution_count": null,
      "outputs": []
    }
  ]
}